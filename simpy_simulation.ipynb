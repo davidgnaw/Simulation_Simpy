{
 "cells": [
  {
   "cell_type": "markdown",
   "id": "90c001ae-f449-470e-829e-2ad213acce43",
   "metadata": {},
   "source": [
    "\n",
    "\n",
    "Yu Fung David Wang"
   ]
  },
  {
   "cell_type": "markdown",
   "id": "9ddf9116-799f-40ff-bb27-757c26bd9653",
   "metadata": {},
   "source": [
    "simulate a simplified airport security system at a busy airport. Passengers arrive according to a Poisson distribution with λ1 = 5 per minute (i.e., mean interarrival rate = 0.2 minutes) to the ID/boarding-pass check queue, where there are several servers who each have exponential service time with mean rate = 0.75 minutes.  After that, the passengers are assigned to the shortest of the several personal-check queues, where they go through the personal scanner (time is uniformly distributed between 0.5 minutes and 1 minute). "
   ]
  },
  {
   "cell_type": "markdown",
   "id": "1ab5cf89-122c-48ea-b70e-fc8a729dd2fe",
   "metadata": {},
   "source": [
    "build a simulation of the system, and then vary the number of ID/boarding-pass checkers and personal-check queues to determine how many are needed to keep average wait times below 15 minutes.  Use rate = 50"
   ]
  },
  {
   "cell_type": "code",
   "execution_count": 2,
   "id": "47bc0f48-badd-4f7f-9f07-7cdc9a18fabc",
   "metadata": {},
   "outputs": [],
   "source": [
    "import simpy\n",
    "import random"
   ]
  },
  {
   "cell_type": "code",
   "execution_count": 7,
   "id": "8a0b3221-376a-42a4-a100-17c6284dd73b",
   "metadata": {},
   "outputs": [
    {
     "name": "stdin",
     "output_type": "stream",
     "text": [
      "Please Input the Number of Servers in the ID/Boarding-Pass Check Queue Working:  2\n",
      "Please Input the Number of Scanners in the Personal Check Queue Working:  2\n"
     ]
    },
    {
     "name": "stdout",
     "output_type": "stream",
     "text": [
      "The average wait time is 12'50''\n"
     ]
    }
   ],
   "source": [
    "wait_times = [] # to calculate the average time it takes later\n",
    "\n",
    "''' Create the environment '''\n",
    "class Airport(object):\n",
    "    def __init__(self, environ, num_servers, num_scanners):\n",
    "        self.environ = environ\n",
    "        self.servers = simpy.Resource(environ, num_servers)\n",
    "        self.scanners = simpy.Resource(environ, num_scanners)\n",
    "\n",
    "    ''' setting up the different factors of the environment'''\n",
    "\n",
    "    def service(self, passenger):\n",
    "        # mean service time rate of 0.75 minutes to go through service\n",
    "        yield self.environ.timeout(0.75) \n",
    "\n",
    "    def scan(self, passenger):\n",
    "         # time of scanner is uniformly distributed (random) between 0.5 and 1 minute to go through scanner\n",
    "        yield self.environ.timeout(random.uniform(0.5, 1))\n",
    "\n",
    "''' setting up the process of passengers using the airport '''\n",
    "def passenger_arrival(environ, passenger, airport):\n",
    "    arrival = environ.now # grab the arrival time\n",
    "\n",
    "    ''' request of servvers to work the service (function boarding_service())\n",
    "         the with statement tells the simulation to release the resource once the process is complete \n",
    "         (ex: once passenger goes through service, it will leave the boarding section)'''\n",
    "        \n",
    "    # passenger generates a request to use the boarding service\n",
    "    with airport.servers.request() as request: \n",
    "        # passenger waits for the servers to be available to be used\n",
    "        yield request \n",
    "        # passenger uses the availaable server to complete the boarding_service process\n",
    "        yield environ.process(airport.service(passenger)) \n",
    "\n",
    "    with airport.scanners.request() as request: # similar idea as above except with the scanner\n",
    "        yield request\n",
    "        yield environ.process(airport.scan(passenger)) \n",
    "\n",
    "    wait_times.append(environ.now - arrival)\n",
    "\n",
    "''' create a function to creating instance of airport and generating passengers '''\n",
    "def airport_process(environ, num_servers, num_scanners): \n",
    "    airport = Airport(environ, num_servers, num_scanners)\n",
    "\n",
    "    passenger = 0\n",
    "    \n",
    "    while True:\n",
    "        ''' 5 passengers arrive in 1 minute so each passenger has a mean interarrival rate of 0.2 minutes \n",
    "         hence we wait a bit before generating new passengers '''\n",
    "        yield environ.timeout(0.2) \n",
    "        passenger += 1 # generate new passenger\n",
    "        environ.process(passenger_arrival(environ, passenger, airport)) # initialize the passenger\n",
    "\n",
    "''' function to calcualte the average wait time as required by the question ''' \n",
    "def average_wait_time(wait_times):\n",
    "    average = sum(wait_times)/len(wait_times)\n",
    "    # grab this average to turn into minutes and seconds\n",
    "    mint, f_mint = divmod(average, 1)\n",
    "    secs = f_mint * 60\n",
    "    return round(mint), round(secs)\n",
    "\n",
    "''' grab the inputs from the user of the simulation '''\n",
    "def user_input():\n",
    "    num_servers = input(\"Please Input the Number of Servers in the ID/Boarding-Pass Check Queue Working: \")\n",
    "    num_scanners = input(\"Please Input the Number of Scanners in the Personal Check Queue Working: \")\n",
    "\n",
    "    # check if the numbers are actually numbers in string (isdigit())\n",
    "    if num_servers.isdigit() and num_scanners.isdigit():\n",
    "        workers = (int(num_servers), int(num_scanners))\n",
    "        return workers\n",
    "\n",
    "    else:\n",
    "        print(\"Error: Please input a number\")\n",
    "        return\n",
    "\n",
    "\n",
    "''' Main function to tie everything together '''\n",
    "def main():\n",
    "\n",
    "    random.seed(123) # set up with a random seed\n",
    "    num_servers, num_scanners = user_input() # query the user for input\n",
    "\n",
    "    # run the actual simulation\n",
    "    # create environment to save into environ to move simulation through steps\n",
    "    environ = simpy.Environment() \n",
    "    # run the simulation main process to create environ and generate passengers\n",
    "    environ.process(airport_process(environ, num_servers, num_scanners)) \n",
    "    # mentioned by the problem where we simulate a busier airport and run to 50 (how many minutes we want it to run for)\n",
    "    environ.run(until = 50) \n",
    "\n",
    "    # results\n",
    "    minute, second = average_wait_time(wait_times)\n",
    "    print(f\"The average wait time is {minute}'{second}''\")\n",
    "\n",
    "if __name__ == '__main__':\n",
    "    main()\n",
    "\n",
    "\n",
    "\n",
    "\n"
   ]
  },
  {
   "cell_type": "markdown",
   "id": "d7123f8b-825d-4a52-adb5-0ee18f0e62cd",
   "metadata": {},
   "source": [
    "Based on the random seed of 123 and the other requirements of the question, at least 2 servers and 2 scanners are needed to be working to keep the avereage wait time under 15 minutes as it gives a average wait time of 12 minutes and 50 seconds.\n",
    "\n",
    "If there is only 1 working server, the average wait time will be 19 minutes and 4 seconds no matter how many scanners there are. Similarly, if there is only 1 working scanner, the average wait time will be 18 minutes and 32 seconds no matter how many servers there are. This is due to how you have to go through both the service and scanning process to get onto the airplane, hence both are dependent on one another. If one process is bottlenecked, the majority of time will be spent on that process. "
   ]
  },
  {
   "cell_type": "code",
   "execution_count": null,
   "id": "b15342c2-7017-45c8-a591-3f9b79c675e9",
   "metadata": {},
   "outputs": [],
   "source": []
  }
 ],
 "metadata": {
  "kernelspec": {
   "display_name": "Python 3 (ipykernel)",
   "language": "python",
   "name": "python3"
  },
  "language_info": {
   "codemirror_mode": {
    "name": "ipython",
    "version": 3
   },
   "file_extension": ".py",
   "mimetype": "text/x-python",
   "name": "python",
   "nbconvert_exporter": "python",
   "pygments_lexer": "ipython3",
   "version": "3.8.12"
  }
 },
 "nbformat": 4,
 "nbformat_minor": 5
}
